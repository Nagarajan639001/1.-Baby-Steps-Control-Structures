{
 "cells": [
  {
   "cell_type": "code",
   "execution_count": 1,
   "id": "63b8d470-3978-4fbe-8eb5-0a9864873963",
   "metadata": {},
   "outputs": [
    {
     "name": "stdout",
     "output_type": "stream",
     "text": [
      "Welcome to Assignment\n"
     ]
    }
   ],
   "source": [
    "print (\"Welcome to Assignment\")"
   ]
  },
  {
   "cell_type": "code",
   "execution_count": 2,
   "id": "d0bd2d38-5305-4ebb-8178-0404a76c9cc0",
   "metadata": {},
   "outputs": [
    {
     "name": "stdout",
     "output_type": "stream",
     "text": [
      "30\n"
     ]
    }
   ],
   "source": [
    "Num1 =10\n",
    "Num2= 20\n",
    "Add = Num1+Num2\n",
    "print(Add)\n"
   ]
  },
  {
   "cell_type": "code",
   "execution_count": 18,
   "id": "bccdbb03-ff79-4b78-982f-948d39fa0c6f",
   "metadata": {},
   "outputs": [
    {
     "name": "stdin",
     "output_type": "stream",
     "text": [
      "Num1 10\n",
      "Num2 20\n"
     ]
    },
    {
     "name": "stdout",
     "output_type": "stream",
     "text": [
      "Add 30\n"
     ]
    }
   ],
   "source": [
    "Number1=int(input(\"Num1\" ))\n",
    "Number2 =int(input(\"Num2\"))\n",
    "Addition = Number1+Number2\n",
    "print(\"Add\",Addition)\n"
   ]
  },
  {
   "cell_type": "code",
   "execution_count": 20,
   "id": "aed80c6d-f080-4f96-9252-43be7eebc867",
   "metadata": {},
   "outputs": [
    {
     "name": "stdin",
     "output_type": "stream",
     "text": [
      "Enter the BMI Indix: 42.7\n"
     ]
    },
    {
     "name": "stdout",
     "output_type": "stream",
     "text": [
      "Obese Class III\n"
     ]
    }
   ],
   "source": [
    "weight=float(input(\"Enter the BMI Indix:\"))\n",
    "if weight<18.5:\n",
    "    print(\"Under weight\")\n",
    "elif weight>18.5 and weight<24.9:\n",
    "    print(\"Normal weight\")\n",
    "elif weight>25 and weight<29.9:\n",
    "    print(\"Over weight\")\n",
    "elif weight<=30:\n",
    "    print(\"Obese\")\n",
    "elif weight>30 and weight<34.9:\n",
    "    print(\"Obese Class I\")\n",
    "elif weight>35 and weight<39.9:\n",
    "    print(\"Obese Class II\")\n",
    "else:\n",
    "    print(\"Obese Class III\")\n",
    "\n",
    "\n"
   ]
  },
  {
   "cell_type": "code",
   "execution_count": null,
   "id": "dc0df687-fadc-44a2-9cb0-e912ddfd016e",
   "metadata": {},
   "outputs": [],
   "source": []
  }
 ],
 "metadata": {
  "kernelspec": {
   "display_name": "Python 3 (ipykernel)",
   "language": "python",
   "name": "python3"
  },
  "language_info": {
   "codemirror_mode": {
    "name": "ipython",
    "version": 3
   },
   "file_extension": ".py",
   "mimetype": "text/x-python",
   "name": "python",
   "nbconvert_exporter": "python",
   "pygments_lexer": "ipython3",
   "version": "3.12.4"
  }
 },
 "nbformat": 4,
 "nbformat_minor": 5
}
